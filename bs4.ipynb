{
  "nbformat": 4,
  "nbformat_minor": 0,
  "metadata": {
    "colab": {
      "name": "bs4.ipynb",
      "provenance": [],
      "include_colab_link": true
    },
    "kernelspec": {
      "name": "python3",
      "display_name": "Python 3"
    },
    "language_info": {
      "name": "python"
    }
  },
  "cells": [
    {
      "cell_type": "markdown",
      "metadata": {
        "id": "view-in-github",
        "colab_type": "text"
      },
      "source": [
        "<a href=\"https://colab.research.google.com/github/Rafaelbs15/pythondojeitocerto_pj1/blob/main/bs4.ipynb\" target=\"_parent\"><img src=\"https://colab.research.google.com/assets/colab-badge.svg\" alt=\"Open In Colab\"/></a>"
      ]
    },
    {
      "cell_type": "code",
      "metadata": {
        "id": "VvvEQOz8EdUT"
      },
      "source": [
        "### K: Adaptado de Daniel Bezerra (https://github.com/danielbnbezerra).\n",
        "from bs4 import BeautifulSoup\n",
        "import requests \n",
        "import sys\n",
        "\n",
        "URL = 'https://www.gov.br/anp/pt-br/centrais-de-conteudo/dados-estatisticos'\n",
        "OIL_DATA_LOCATION = 'https://www.gov.br/anp/pt-br/centrais-de-conteudo/dados-estatisticos/de/ppgn/pp/'\n",
        "\n",
        "html_text = requests.get(URL).text\n",
        "#print (html_text)\n",
        "\n",
        "soup = BeautifulSoup(html_text, 'lxml')\n",
        "general_content = soup.find_all('a')\n",
        "\n",
        "#print (general_content)\n",
        "\n",
        "oil_content_links = ['']\n",
        "for content in general_content:\n",
        "    link = content['href']\n",
        "    if link.startswith(OIL_DATA_LOCATION):\n",
        "        oil_content_links.append(link)\n",
        "\n",
        "for link in oil_content_links:\n",
        "    print (link)\n",
        "    !wget $link -P \"/content/drive/My Drive/\""
      ],
      "execution_count": null,
      "outputs": []
    }
  ]
}