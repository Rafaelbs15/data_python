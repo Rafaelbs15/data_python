{
  "nbformat": 4,
  "nbformat_minor": 0,
  "metadata": {
    "colab": {
      "name": "api_twitter.ipynb",
      "provenance": [],
      "collapsed_sections": [],
      "include_colab_link": true
    },
    "kernelspec": {
      "name": "python3",
      "display_name": "Python 3"
    },
    "language_info": {
      "name": "python"
    }
  },
  "cells": [
    {
      "cell_type": "markdown",
      "metadata": {
        "id": "view-in-github",
        "colab_type": "text"
      },
      "source": [
        "<a href=\"https://colab.research.google.com/github/Rafaelbs15/pythondojeitocerto_pj1/blob/main/api_twitter.ipynb\" target=\"_parent\"><img src=\"https://colab.research.google.com/assets/colab-badge.svg\" alt=\"Open In Colab\"/></a>"
      ]
    },
    {
      "cell_type": "markdown",
      "metadata": {
        "id": "HYoHTxEypSSa"
      },
      "source": [
        "## Importar bibliotecas e definir constantes"
      ]
    },
    {
      "cell_type": "code",
      "metadata": {
        "id": "Q4-tj8e9QaCO"
      },
      "source": [
        "### K: Documentação: https://docs.tweepy.org/en/stable/\n",
        "\n",
        "import tweepy\n",
        "import pandas as pd\n",
        "\n",
        "pd.set_option('display.width', 1000)\n",
        "pd.set_option('display.max_columns', None)"
      ],
      "execution_count": 3,
      "outputs": []
    },
    {
      "cell_type": "markdown",
      "metadata": {
        "id": "_1htUZaQpZje"
      },
      "source": [
        "## Configurar credenciais e instanciar objetos"
      ]
    },
    {
      "cell_type": "code",
      "metadata": {
        "id": "9zlDQnrZdJI2"
      },
      "source": [
        "consumer_key        = 'VTMds2Uu0dAx0uiKIYgr8N9fj'\n",
        "consumer_secret     = 'wm9TlMWTmOGHWP3VfyOn0Aw360AYA0vxt2NbpFANfmIC4ZQQGK'\n",
        "access_token        = '1034604027613462528-7Ytc0EvjHzwvWNXH8H25xIkCUIsELX'\n",
        "access_token_secret = 'IIKByIYjpBOwuagq0xNNyiZKk2iUdMW4cTA1BbKEwAH81'\n",
        "\n",
        "auth = tweepy.OAuthHandler(consumer_key, consumer_secret)\n",
        "auth.set_access_token(access_token, access_token_secret)\n",
        "api = tweepy.API(auth)\n",
        "### K: https://docs.tweepy.org/en/stable/api.html#api-reference"
      ],
      "execution_count": 4,
      "outputs": []
    },
    {
      "cell_type": "markdown",
      "metadata": {
        "id": "cM7UODTqpdjf"
      },
      "source": [
        "## Obter tweets da forma mais simples"
      ]
    },
    {
      "cell_type": "code",
      "metadata": {
        "id": "xwepVQuodPqU",
        "colab": {
          "base_uri": "https://localhost:8080/"
        },
        "outputId": "8d242eab-d616-42e6-8ac8-e97f4541a1b9"
      },
      "source": [
        "user_id = 'BarackObama'\n",
        "tweets = api.user_timeline(screen_name=user_id, \n",
        "                           count=10, ### K: Max 200.\n",
        "                           include_rts=False,\n",
        "                           tweet_mode='extended'\n",
        "                           )\n",
        "\n",
        "print ('Tweets do {}\\n'.format(user_id))\n",
        "for tweet in tweets[:5]:\n",
        "     print('ID: {}'.format(tweet.id))\n",
        "     print(tweet.created_at)\n",
        "     print(tweet.full_text, '\\n')"
      ],
      "execution_count": 5,
      "outputs": [
        {
          "output_type": "stream",
          "name": "stdout",
          "text": [
            "Tweets do BarackObama\n",
            "\n",
            "ID: 1459940709088350208\n",
            "2021-11-14 17:46:04\n",
            "Young people like @JackHarries and our @ObamaFoundation leaders are using their platforms to pressure the world on climate change. As we move forward with the Glasgow pact, we must listen and follow through on our commitments to protect our planet and secure a better future. https://t.co/rNS08lWEuK \n",
            "\n",
            "ID: 1458800452393439239\n",
            "2021-11-11 14:15:05\n",
            "This Veterans Day, I want to share Tom Voutsos's story. He served in the U.S. Marine Corps, and has continued to live a life dedicated to public service. Through @LadderUpHousing, he’s helping hardworking folks buy their own home. https://t.co/wgWG9CBMf7 \n",
            "\n",
            "ID: 1458800450283659272\n",
            "2021-11-11 14:15:05\n",
            "To every veteran and their family, we thank you for your service and sacrifice to our country. https://t.co/4EYWe9pRvV \n",
            "\n",
            "ID: 1458601125960163332\n",
            "2021-11-11 01:03:02\n",
            ".@SpeakerPelosi and these members of Congress are making it clear that the United States is back, and will continue to lead the way on climate change. We would not have met our Paris goals without them, and now they’re working to do even more. https://t.co/Kxi4k1tRe3 \n",
            "\n",
            "ID: 1458519999308500997\n",
            "2021-11-10 19:40:40\n",
            "Young people have more at stake in the fight against climate change than anyone else. I had a chance to talk with some young people who are helping lead the fight, and could not be more impressed by their courage, creativity, and persistence. They give me hope. https://t.co/muFbKl5WcF \n",
            "\n"
          ]
        }
      ]
    },
    {
      "cell_type": "markdown",
      "metadata": {
        "id": "jLrfXCg_piGZ"
      },
      "source": [
        "## Obter tweets de múltiplos usuários e escrever em um arquivo"
      ]
    },
    {
      "cell_type": "code",
      "metadata": {
        "id": "VVunLGdPkOIl",
        "colab": {
          "base_uri": "https://localhost:8080/"
        },
        "outputId": "17664990-2b4b-4ffb-930f-32a4a3cd4c86"
      },
      "source": [
        "def retrieve_tweets_from_account(account):\n",
        "    cursor = tweepy.Cursor(api.user_timeline, id=account,\n",
        "                           tweet_mode='extended').items(10)\n",
        "   \n",
        "    return pd.DataFrame([dict({'created_at':i.created_at,\n",
        "                               'tweet': i.full_text,\n",
        "                               'author': i.author.screen_name,\n",
        "                               'retweeted': i.retweeted,\n",
        "                               'source': i.source,\n",
        "                               'retweet_count': i.retweet_count,\n",
        "                               'favorite_count': i.favorite_count,\n",
        "                               'in_reply_to': i.in_reply_to_screen_name,\n",
        "                               'coordinates': i.coordinates\n",
        "                              }) for i in cursor])\n",
        "\n",
        "\n",
        "\n",
        "account_set = ['OneTweetTony', \n",
        "               'TheSeanLock',\n",
        "               'BarackObama',\n",
        "               'JustinTrudeau']\n",
        "\n",
        "df_tweets = pd.DataFrame()\n",
        "for account in account_set:\n",
        "    new_tweets = retrieve_tweets_from_account(account)\n",
        "    df_tweets = df_tweets.append(new_tweets, ignore_index=True)\n",
        "\n",
        "df_tweets.to_excel('tweets.xlsx')\n",
        "df_tweets.to_csv('tweets.csv', index=False)\n",
        "print (df_tweets [:5])"
      ],
      "execution_count": 8,
      "outputs": [
        {
          "output_type": "stream",
          "name": "stdout",
          "text": [
            "           created_at                                              tweet        author  retweeted                source  retweet_count  favorite_count  in_reply_to coordinates\n",
            "0 2012-06-13 19:49:44                          Nailed it! That's a wrap!  OneTweetTony      False    Twitter Web Client           2683            2098         None        None\n",
            "1 2013-12-24 17:26:14  Goodbye Addison and thank you for everything y...   TheSeanLock      False       Twitter Web App             54            1102         None        None\n",
            "2 2011-12-01 15:29:45  Due to numerous imposters I have been forced t...   TheSeanLock      False    Twitter Web Client           7599           14724         None        None\n",
            "3 2021-11-14 17:46:04  Young people like @JackHarries and our @ObamaF...   BarackObama      False  Twitter Media Studio           1789           11246         None        None\n",
            "4 2021-11-11 14:15:05  This Veterans Day, I want to share Tom Voutsos...   BarackObama      False    Twitter for iPhone            708            5926  BarackObama        None\n"
          ]
        }
      ]
    }
  ]
}